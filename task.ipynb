{
 "cells": [
  {
   "cell_type": "markdown",
   "metadata": {},
   "source": [
    "Task: Analyzing a Bookstore Database\n",
    "Objective:\n",
    "Create a database for a bookstore, insert relevant data, and perform various queries to analyze the data.\n",
    "\n",
    "Database Name: bookstore.db\n",
    "\n",
    "Steps:\n",
    "Create Tables:\n",
    "\n",
    "Authors\n",
    "Books\n",
    "Sales\n",
    "Insert Data:\n",
    "Insert sample data into each table.\n",
    "Queries:\n",
    "-- Insert data into the Authors table\n",
    "INSERT INTO Authors (name, country) VALUES ('George Orwell', 'United Kingdom');\n",
    "INSERT INTO Authors (name, country) VALUES ('Harper Lee', 'United States');\n",
    "INSERT INTO Authors (name, country) VALUES ('J.K. Rowling', 'United Kingdom');\n",
    "INSERT INTO Authors (name, country) VALUES ('J.R.R. Tolkien', 'United Kingdom');\n",
    "\n",
    "-- Insert data into the Books table\n",
    "INSERT INTO Books (title, author_id, price) VALUES ('1984', 1, 9.99);\n",
    "INSERT INTO Books (title, author_id, price) VALUES ('Animal Farm', 1, 7.99);\n",
    "INSERT INTO Books (title, author_id, price) VALUES ('To Kill a Mockingbird', 2, 8.99);\n",
    "INSERT INTO Books (title, author_id, price) VALUES ('Harry Potter and the Sorcerer''s Stone', 3, 10.99);\n",
    "INSERT INTO Books (title, author_id, price) VALUES ('The Hobbit', 4, 12.99);\n",
    "\n",
    "-- Insert data into the Sales table\n",
    "INSERT INTO Sales (book_id, sale_date, quantity) VALUES (1, '2023-06-01', 50);\n",
    "INSERT INTO Sales (book_id, sale_date, quantity) VALUES (2, '2023-06-01', 30);\n",
    "INSERT INTO Sales (book_id, sale_date, quantity) VALUES (3, '2023-06-01', 40);\n",
    "INSERT INTO Sales (book_id, sale_date, quantity) VALUES (4, '2023-06-01', 60);\n",
    "INSERT INTO Sales (book_id, sale_date, quantity) VALUES (5, '2023-06-01', 25);\n",
    "INSERT INTO Sales (book_id, sale_date, quantity) VALUES (1, '2023-06-02', 20);\n",
    "INSERT INTO Sales (book_id, sale_date, quantity) VALUES (2, '2023-06-02', 25);\n",
    "INSERT INTO Sales (book_id, sale_date, quantity) VALUES (3, '2023-06-02', 35);\n",
    "INSERT INTO Sales (book_id, sale_date, quantity) VALUES (4, '2023-06-02', 50);\n",
    "INSERT INTO Sales (book_id, sale_date, quantity) VALUES (5, '2023-06-02', 30);\n",
    "\n",
    "Retrieve a list of all books with their authors.\n",
    "Calculate the total sales for each book.\n",
    "Find the author with the highest number of books.\n",
    "List the top 3 best-selling books."
   ]
  },
  {
   "cell_type": "code",
   "execution_count": 1,
   "metadata": {},
   "outputs": [],
   "source": [
    "import sqlite3"
   ]
  },
  {
   "cell_type": "code",
   "execution_count": 2,
   "metadata": {},
   "outputs": [],
   "source": [
    "conn=sqlite3.connect('bookstore.db')"
   ]
  },
  {
   "cell_type": "code",
   "execution_count": 3,
   "metadata": {},
   "outputs": [],
   "source": [
    "conn.execute(\"\"\"CREATE TABLE IF NOT EXISTS Authors(\n",
    "             author_id INTEGER PRIMARY KEY,\n",
    "             name TEXT,\n",
    "             country TEXT\n",
    "             )\"\"\")\n",
    "\n",
    "conn.execute(\"\"\"CREATE TABLE IF NOT EXISTS Books(\n",
    "             book_id INTEGER PRIMARY KEY,\n",
    "             title TEXT,\n",
    "             author_id INTEGER,\n",
    "             price INTEGER,\n",
    "             FOREIGN KEY (author_id) REFERENCES Authors(author_id)\n",
    "             )\"\"\")\n",
    "\n",
    "conn.execute(\"\"\"CREATE TABLE IF NOT EXISTS Sales(\n",
    "             sales_id INTEGER PRIMARY KEY,\n",
    "             book_id TEXT,\n",
    "             sale_date DATETIME,\n",
    "             quantity INTEGER,\n",
    "             FOREIGN KEY (book_id) REFERENCES Books(book_id)\n",
    "             )\"\"\")\n",
    "\n",
    "conn.commit()"
   ]
  },
  {
   "cell_type": "code",
   "execution_count": 5,
   "metadata": {},
   "outputs": [],
   "source": [
    "cursor = conn.cursor()\n",
    "\n",
    "list_authors=[\"INSERT INTO Authors (name, country) VALUES ('George Orwell', 'United Kingdom')\",\n",
    "\"INSERT INTO Authors (name, country) VALUES ('Harper Lee', 'United States')\",\n",
    "\"INSERT INTO Authors (name, country) VALUES ('J.K. Rowling', 'United Kingdom')\",\n",
    "\"INSERT INTO Authors (name, country) VALUES ('J.R.R. Tolkien', 'United Kingdom')\"]\n",
    "\n",
    "for script in list_authors:\n",
    "    cursor.execute(script)\n",
    "    conn.commit()"
   ]
  },
  {
   "cell_type": "code",
   "execution_count": 7,
   "metadata": {},
   "outputs": [],
   "source": [
    "list_books=[\"INSERT INTO Books (title, author_id, price) VALUES ('1984', 1, 9.99)\",\n",
    "\"INSERT INTO Books (title, author_id, price) VALUES ('Animal Farm', 1, 7.99)\",\n",
    "\"INSERT INTO Books (title, author_id, price) VALUES ('To Kill a Mockingbird', 2, 8.99)\",\n",
    "\"INSERT INTO Books (title, author_id, price) VALUES ('Harry Potter and the Sorcerer''s Stone', 3, 10.99)\",\n",
    "\"INSERT INTO Books (title, author_id, price) VALUES ('The Hobbit', 4, 12.99)\"]\n",
    "\n",
    "for script in list_books:\n",
    "    cursor.execute(script)\n",
    "    conn.commit()"
   ]
  },
  {
   "cell_type": "code",
   "execution_count": 8,
   "metadata": {},
   "outputs": [],
   "source": [
    "list_sales=[\"INSERT INTO Sales (book_id, sale_date, quantity) VALUES (1, '2023-06-01', 50)\",\n",
    "\"INSERT INTO Sales (book_id, sale_date, quantity) VALUES (2, '2023-06-01', 30)\",\n",
    "\"INSERT INTO Sales (book_id, sale_date, quantity) VALUES (3, '2023-06-01', 40)\",\n",
    "\"INSERT INTO Sales (book_id, sale_date, quantity) VALUES (4, '2023-06-01', 60)\",\n",
    "\"INSERT INTO Sales (book_id, sale_date, quantity) VALUES (5, '2023-06-01', 25)\",\n",
    "\"INSERT INTO Sales (book_id, sale_date, quantity) VALUES (1, '2023-06-02', 20)\",\n",
    "\"INSERT INTO Sales (book_id, sale_date, quantity) VALUES (2, '2023-06-02', 25)\",\n",
    "\"INSERT INTO Sales (book_id, sale_date, quantity) VALUES (3, '2023-06-02', 35)\",\n",
    "\"INSERT INTO Sales (book_id, sale_date, quantity) VALUES (4, '2023-06-02', 50)\",\n",
    "\"INSERT INTO Sales (book_id, sale_date, quantity) VALUES (5, '2023-06-02', 30)\"]\n",
    "\n",
    "for script in list_sales:\n",
    "    cursor.execute(script)\n",
    "    conn.commit()"
   ]
  },
  {
   "cell_type": "code",
   "execution_count": 7,
   "metadata": {},
   "outputs": [
    {
     "name": "stdout",
     "output_type": "stream",
     "text": [
      "[('1984', 'George Orwell'), ('Animal Farm', 'George Orwell'), ('To Kill a Mockingbird', 'Harper Lee'), ('1984', 'George Orwell'), ('Animal Farm', 'George Orwell'), ('To Kill a Mockingbird', 'Harper Lee'), (\"Harry Potter and the Sorcerer's Stone\", 'J.K. Rowling'), ('The Hobbit', 'J.R.R. Tolkien')]\n"
     ]
    }
   ],
   "source": [
    "# Retrieve a list of all books with their authors.\n",
    "conn=sqlite3.connect('bookstore.db')\n",
    "cursor=conn.cursor()\n",
    "\n",
    "cursor.execute(\"\"\"SELECT t1.title, t2.name FROM Books as t1 JOIN Authors as t2 ON t1.author_id=t2.author_id\"\"\")\n",
    "\n",
    "books=cursor.fetchall()\n",
    "\n",
    "new_list=[]\n",
    "\n",
    "for i in books:\n",
    "    new_list.append(i)\n",
    "\n",
    "print(new_list)\n",
    "\n"
   ]
  },
  {
   "cell_type": "code",
   "execution_count": 12,
   "metadata": {},
   "outputs": [
    {
     "name": "stdout",
     "output_type": "stream",
     "text": [
      "('1984', 'sum for all book sales 499.5 €')\n",
      "('Animal Farm', 'sum for all book sales 239.7 €')\n",
      "('To Kill a Mockingbird', 'sum for all book sales 359.6 €')\n",
      "('1984', 'sum for all book sales 599.4 €')\n",
      "('Animal Farm', 'sum for all book sales 199.75 €')\n",
      "('1984', 'sum for all book sales 199.8 €')\n",
      "('Animal Farm', 'sum for all book sales 199.75 €')\n",
      "('To Kill a Mockingbird', 'sum for all book sales 314.65 €')\n",
      "('1984', 'sum for all book sales 499.5 €')\n",
      "('Animal Farm', 'sum for all book sales 239.7 €')\n"
     ]
    }
   ],
   "source": [
    "# Calculate the total sales for each book.\n",
    "cursor.execute(\"\"\"SELECT t1.title, CONCAT('sum for all book sales ',FORMAT(t1.price*t2.quantity,2), ' €') FROM Books as t1 JOIN Sales as t2 ON t1.book_id=t2.book_id\"\"\")\n",
    "\n",
    "sales=cursor.fetchall()\n",
    "\n",
    "for i in sales:\n",
    "   print(i)"
   ]
  },
  {
   "cell_type": "code",
   "execution_count": 23,
   "metadata": {},
   "outputs": [
    {
     "name": "stdout",
     "output_type": "stream",
     "text": [
      "[('1984', 180), ('Animal Farm', 110), ('To Kill a Mockingbird', 75)]\n"
     ]
    }
   ],
   "source": [
    "# List the top 3 best-selling books.\n",
    "\n",
    "cursor.execute(\"\"\"SELECT t1.title, SUM(t2.b) as \"Suma bendra\" FROM Books as t1 JOIN Sales as t2 ON t1.book_id=t2.book_id GROUP BY t1.title ORDER BY \"Suma bendra\" DESC LIMIT 3\"\"\")\n",
    "\n",
    "max_quantity=cursor.fetchall()\n",
    "\n",
    "print(max_quantity)"
   ]
  },
  {
   "cell_type": "code",
   "execution_count": 28,
   "metadata": {},
   "outputs": [
    {
     "name": "stdout",
     "output_type": "stream",
     "text": [
      "[('George Orwell', 2)]\n"
     ]
    }
   ],
   "source": [
    "# Find the author with the highest number of books.\n",
    "\n",
    "cursor.execute(\"\"\"SELECT t1.name, COUNT(DISTINCT t2.title) as Quantity FROM Authors as t1 JOIN Books as t2 ON t1.author_id = t2.author_id\n",
    "GROUP BY t1.name ORDER BY Quantity DESC LIMIT 1\"\"\")\n",
    "\n",
    "max_quantity_author=cursor.fetchall()\n",
    "\n",
    "print(max_quantity_author)"
   ]
  }
 ],
 "metadata": {
  "kernelspec": {
   "display_name": "Python 3",
   "language": "python",
   "name": "python3"
  },
  "language_info": {
   "codemirror_mode": {
    "name": "ipython",
    "version": 3
   },
   "file_extension": ".py",
   "mimetype": "text/x-python",
   "name": "python",
   "nbconvert_exporter": "python",
   "pygments_lexer": "ipython3",
   "version": "3.12.4"
  }
 },
 "nbformat": 4,
 "nbformat_minor": 2
}
